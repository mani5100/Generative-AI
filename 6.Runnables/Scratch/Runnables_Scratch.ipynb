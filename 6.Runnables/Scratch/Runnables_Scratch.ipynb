{
  "nbformat": 4,
  "nbformat_minor": 0,
  "metadata": {
    "colab": {
      "provenance": []
    },
    "kernelspec": {
      "name": "python3",
      "display_name": "Python 3"
    },
    "language_info": {
      "name": "python"
    }
  },
  "cells": [
    {
      "cell_type": "code",
      "execution_count": null,
      "metadata": {
        "id": "1eM4zZ2--azQ"
      },
      "outputs": [],
      "source": [
        "from abc import ABC,abstractmethod"
      ]
    },
    {
      "cell_type": "code",
      "source": [
        "class NakliLLM:\n",
        "  def __init__(self):\n",
        "      print(\"LLM Created\")\n",
        "  def predict(self,prompt):\n",
        "    return f\"Response for {prompt}\""
      ],
      "metadata": {
        "id": "1Xmk9Xfy-wvB"
      },
      "execution_count": null,
      "outputs": []
    },
    {
      "cell_type": "code",
      "source": [
        "class NalkiPromptTemplate:\n",
        "  def __init__(self,template,input_var):\n",
        "    self.template=template\n",
        "    self.input_var=input_var\n",
        "  def format(self,inp_dict):\n",
        "    return self.template.format(**inp_dict)"
      ],
      "metadata": {
        "id": "dVvKCx17CIFp"
      },
      "execution_count": null,
      "outputs": []
    },
    {
      "cell_type": "code",
      "source": [
        "prompt=NalkiPromptTemplate(template=\"What is the capital of {country}?\",input_var=[\"country\"])\n",
        "pr=prompt.format({\"country\":\"Pakisatan\"})\n",
        "\n",
        "model= NakliLLM()\n",
        "model.predict(pr)"
      ],
      "metadata": {
        "colab": {
          "base_uri": "https://localhost:8080/",
          "height": 52
        },
        "id": "bo_86C0lCuAN",
        "outputId": "55287d70-2c12-401c-a901-6592831c02df"
      },
      "execution_count": null,
      "outputs": [
        {
          "output_type": "stream",
          "name": "stdout",
          "text": [
            "LLM Created\n"
          ]
        },
        {
          "output_type": "execute_result",
          "data": {
            "text/plain": [
              "'Response for What is the capital of Pakisatan?'"
            ],
            "application/vnd.google.colaboratory.intrinsic+json": {
              "type": "string"
            }
          },
          "metadata": {},
          "execution_count": 14
        }
      ]
    },
    {
      "cell_type": "markdown",
      "source": [
        "# **Runnable Implementation**"
      ],
      "metadata": {
        "id": "NzA2ZY43ub8r"
      }
    },
    {
      "cell_type": "code",
      "source": [
        "from abc import ABC,abstractmethod\n",
        "class Runnable(ABC):\n",
        "  @abstractmethod\n",
        "  def invoke(self,inp):\n",
        "    pass\n"
      ],
      "metadata": {
        "id": "Ob7U6qu3Dixp"
      },
      "execution_count": null,
      "outputs": []
    },
    {
      "cell_type": "code",
      "source": [
        "class NakliLLM(Runnable):\n",
        "  def __init__(self):\n",
        "      print(\"LLM Created\")\n",
        "  def invoke(self,prompt):\n",
        "    return {\n",
        "        'response':f\"Response for {prompt}\"\n",
        "    }\n",
        "class NalkiPromptTemplate(Runnable):\n",
        "  def __init__(self,template,input_var):\n",
        "    self.template=template\n",
        "    self.input_var=input_var\n",
        "  def invoke(self,inp_dict):\n",
        "    return self.template.format(**inp_dict)\n"
      ],
      "metadata": {
        "id": "F5pKvCCdubhR"
      },
      "execution_count": null,
      "outputs": []
    },
    {
      "cell_type": "code",
      "source": [
        "class NakliStringParser(Runnable):\n",
        "  def __init__(self):\n",
        "    pass\n",
        "  def invoke(self,input_data):\n",
        "    return input_data['response']"
      ],
      "metadata": {
        "id": "MyFRKSgM9wVZ"
      },
      "execution_count": null,
      "outputs": []
    },
    {
      "cell_type": "code",
      "source": [
        "class NakliRunnableConnector(Runnable):\n",
        "  def __init__(self,runnable_list):\n",
        "    self.runnable_list=runnable_list\n",
        "  def invoke(self,input_data):\n",
        "    for runnable in self.runnable_list:\n",
        "      input_data=runnable.invoke(input_data)\n",
        "    return input_data"
      ],
      "metadata": {
        "id": "iP4s9xd15j3X"
      },
      "execution_count": null,
      "outputs": []
    },
    {
      "cell_type": "code",
      "source": [
        "parser=NakliStringParser()"
      ],
      "metadata": {
        "id": "-oLQltMK-N4t"
      },
      "execution_count": null,
      "outputs": []
    },
    {
      "cell_type": "code",
      "source": [
        "llm=NakliLLM()\n",
        "prompt=NalkiPromptTemplate(template=\"What is the capital of {country}?\",input_var=[\"country\"])\n",
        "chain=NakliRunnableConnector([prompt,llm,parser])"
      ],
      "metadata": {
        "colab": {
          "base_uri": "https://localhost:8080/"
        },
        "id": "w1mif-WiIK9o",
        "outputId": "f78f94fd-c640-4910-f2dc-af3ea2407286"
      },
      "execution_count": null,
      "outputs": [
        {
          "output_type": "stream",
          "name": "stdout",
          "text": [
            "LLM Created\n"
          ]
        }
      ]
    },
    {
      "cell_type": "code",
      "source": [
        "res=chain.invoke({'country':'Pakistan'})"
      ],
      "metadata": {
        "id": "oEHMcHQ77l-s"
      },
      "execution_count": null,
      "outputs": []
    },
    {
      "cell_type": "code",
      "source": [
        "template1=NalkiPromptTemplate(template=\"Tell me a Joke on topic {topic}\",input_var=[\"topic\"])\n",
        "template2=NalkiPromptTemplate(template=\"Can you now explain this {response}\",input_var=[\"response\"])"
      ],
      "metadata": {
        "id": "6OP16CIs8Lnb"
      },
      "execution_count": null,
      "outputs": []
    },
    {
      "cell_type": "code",
      "source": [
        "chain1=NakliRunnableConnector([template1,llm])\n",
        "chain2=NakliRunnableConnector([template2,llm,parser])"
      ],
      "metadata": {
        "id": "UPWEFReU_7q_"
      },
      "execution_count": null,
      "outputs": []
    },
    {
      "cell_type": "code",
      "source": [
        "main_chain=NakliRunnableConnector([chain1,chain2])"
      ],
      "metadata": {
        "id": "SyB-HOV4AH_Z"
      },
      "execution_count": null,
      "outputs": []
    },
    {
      "cell_type": "code",
      "source": [
        "main_chain.invoke({'topic':'Cricket'})"
      ],
      "metadata": {
        "id": "_5SISIFQCCoc",
        "outputId": "f5284cec-edcf-4034-86c0-33c973f84ae3",
        "colab": {
          "base_uri": "https://localhost:8080/",
          "height": 35
        }
      },
      "execution_count": null,
      "outputs": [
        {
          "output_type": "execute_result",
          "data": {
            "text/plain": [
              "'Response for Can you now explain this Response for Tell me a Joke on topic Cricket'"
            ],
            "application/vnd.google.colaboratory.intrinsic+json": {
              "type": "string"
            }
          },
          "metadata": {},
          "execution_count": 46
        }
      ]
    }
  ]
}