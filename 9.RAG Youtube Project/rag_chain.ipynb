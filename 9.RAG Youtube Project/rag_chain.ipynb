{
 "cells": [
  {
   "cell_type": "code",
   "execution_count": 1,
   "id": "a0a4395b",
   "metadata": {},
   "outputs": [
    {
     "name": "stdout",
     "output_type": "stream",
     "text": [
      "Requirement already satisfied: youtube-transcript-api in e:\\langchain\\tutorials\\venv\\lib\\site-packages (1.1.0)\n",
      "Requirement already satisfied: tiktoken in e:\\langchain\\tutorials\\venv\\lib\\site-packages (0.9.0)\n",
      "Requirement already satisfied: faiss-cpu in e:\\langchain\\tutorials\\venv\\lib\\site-packages (1.11.0)\n",
      "Requirement already satisfied: defusedxml<0.8.0,>=0.7.1 in e:\\langchain\\tutorials\\venv\\lib\\site-packages (from youtube-transcript-api) (0.7.1)\n",
      "Requirement already satisfied: requests in e:\\langchain\\tutorials\\venv\\lib\\site-packages (from youtube-transcript-api) (2.32.4)\n",
      "Requirement already satisfied: regex>=2022.1.18 in e:\\langchain\\tutorials\\venv\\lib\\site-packages (from tiktoken) (2024.11.6)\n",
      "Requirement already satisfied: numpy<3.0,>=1.25.0 in e:\\langchain\\tutorials\\venv\\lib\\site-packages (from faiss-cpu) (2.3.0)\n",
      "Requirement already satisfied: packaging in e:\\langchain\\tutorials\\venv\\lib\\site-packages (from faiss-cpu) (24.2)\n",
      "Requirement already satisfied: charset_normalizer<4,>=2 in e:\\langchain\\tutorials\\venv\\lib\\site-packages (from requests->youtube-transcript-api) (3.4.2)\n",
      "Requirement already satisfied: idna<4,>=2.5 in e:\\langchain\\tutorials\\venv\\lib\\site-packages (from requests->youtube-transcript-api) (3.10)\n",
      "Requirement already satisfied: urllib3<3,>=1.21.1 in e:\\langchain\\tutorials\\venv\\lib\\site-packages (from requests->youtube-transcript-api) (2.4.0)\n",
      "Requirement already satisfied: certifi>=2017.4.17 in e:\\langchain\\tutorials\\venv\\lib\\site-packages (from requests->youtube-transcript-api) (2025.4.26)\n",
      "Note: you may need to restart the kernel to use updated packages.\n"
     ]
    }
   ],
   "source": [
    "%pip install youtube-transcript-api tiktoken faiss-cpu"
   ]
  },
  {
   "cell_type": "code",
   "execution_count": 2,
   "id": "a020da3b",
   "metadata": {},
   "outputs": [],
   "source": [
    "from youtube_transcript_api import YouTubeTranscriptApi, TranscriptsDisabled\n",
    "from langchain.text_splitter import RecursiveCharacterTextSplitter\n",
    "from dotenv import load_dotenv\n",
    "from langchain_openai import ChatOpenAI\n",
    "from langchain_community.vectorstores import FAISS\n",
    "from langchain_core.prompts import PromptTemplate"
   ]
  },
  {
   "cell_type": "code",
   "execution_count": 22,
   "id": "0dd1b858",
   "metadata": {},
   "outputs": [],
   "source": [
    "from langchain_core.runnables import RunnableLambda, RunnablePassthrough, RunnableParallel"
   ]
  },
  {
   "cell_type": "code",
   "execution_count": 40,
   "id": "1601bb5c",
   "metadata": {},
   "outputs": [],
   "source": [
    "youtube_id=\"iOdFUJiB0Zc\"\n",
    "transcript_list=YouTubeTranscriptApi.get_transcript(youtube_id,languages=[\"en\"])"
   ]
  },
  {
   "cell_type": "code",
   "execution_count": 41,
   "id": "14f51504",
   "metadata": {},
   "outputs": [],
   "source": [
    "transcript=\" \".join(docs['text'] for docs in transcript_list)"
   ]
  },
  {
   "cell_type": "code",
   "execution_count": 42,
   "id": "1dcb84aa",
   "metadata": {},
   "outputs": [],
   "source": [
    "splitter=RecursiveCharacterTextSplitter(chunk_size=1000,chunk_overlap=200)\n",
    "documents=splitter.create_documents([transcript])"
   ]
  },
  {
   "cell_type": "code",
   "execution_count": 43,
   "id": "677ec4cc",
   "metadata": {},
   "outputs": [],
   "source": [
    "from langchain_community.vectorstores import FAISS\n",
    "from langchain_openai import OpenAIEmbeddings\n",
    "vector_store=FAISS.from_documents(documents,OpenAIEmbeddings())"
   ]
  },
  {
   "cell_type": "code",
   "execution_count": 44,
   "id": "5392421c",
   "metadata": {},
   "outputs": [
    {
     "data": {
      "text/plain": [
       "{0: '008eda62-6389-4bd3-a434-292cddecd2f6',\n",
       " 1: '735aff10-ed87-4a44-9cec-d64cc0042d96',\n",
       " 2: '78921018-9360-4336-90d2-3ff987a1d1a0',\n",
       " 3: 'bc219359-cb77-4c83-a291-e1787d480e0c',\n",
       " 4: '9458b7be-84f6-4399-a3c2-7c687bc7968e',\n",
       " 5: '1152ccb5-f1b7-4297-b0d7-05e0119da4a2',\n",
       " 6: 'bdd044d7-2038-4a07-8c99-724f730945a0',\n",
       " 7: 'c1824b8b-75de-4daa-9033-ca9c60550879',\n",
       " 8: 'b12553d5-63d8-44a7-b236-5fd1cc52a7af',\n",
       " 9: 'fa95994d-5f13-47eb-b491-0a91f1888ba9',\n",
       " 10: '8bc5b093-92c6-4a9e-a4f2-3d6aade2c2c7',\n",
       " 11: '08f3f258-1a46-4ad7-9128-88e994f5398b',\n",
       " 12: '58656d7e-7090-494d-90f3-049a621ddc9b',\n",
       " 13: '10caf6a0-d9c3-4aa5-9893-579f6e2bca72',\n",
       " 14: 'b9688920-4955-4236-a678-5cc079baab80',\n",
       " 15: '62fa98f8-de5a-4e4d-9fd8-70bd446893b8',\n",
       " 16: '54b50b6f-eac4-46db-b8ee-b05052422f23',\n",
       " 17: '9e672d95-cd5b-44fe-985d-0709c81079e8',\n",
       " 18: 'f9c0f767-2746-41e0-ab86-978d065ad584',\n",
       " 19: '39c5596f-a3f5-4093-a607-65f5fbb35762',\n",
       " 20: '8cdf52ba-f724-469d-87ba-2699d8e6a4b0',\n",
       " 21: '56961906-e05a-45f0-ac58-0d40abf151c5',\n",
       " 22: 'e24b50be-6e50-40af-a437-4315ff050bab',\n",
       " 23: 'a2c33b56-7d01-45b4-b217-b4cb6599ac6d',\n",
       " 24: 'fec52ed3-859c-4b8a-815f-8337d1c02e5b',\n",
       " 25: '3cafbf7d-e702-414e-83c9-94a7a00ece1d',\n",
       " 26: 'bb425624-9ade-470f-b75f-328a10e95105',\n",
       " 27: '908baaa8-6e29-4f67-9fb2-4334c3c7e356',\n",
       " 28: 'b08dbe53-20bf-462a-ad73-67ec9a7a0ebb',\n",
       " 29: '9e5d2555-e99c-4efe-abe7-0ce309640735',\n",
       " 30: 'f3906f23-37ee-40bc-9f6d-eba6289ad0a2',\n",
       " 31: 'ec0dfcd5-9786-4935-bd86-b220cd448c4c',\n",
       " 32: '0056f521-8010-4b5e-9c2c-19118b4aebd4',\n",
       " 33: '203f4cab-071b-4684-b342-19ae02110b43',\n",
       " 34: 'a55cb4f9-835e-4952-8600-5158de744445',\n",
       " 35: '2957de1d-7f3e-4844-b58b-6208ab20fcb7',\n",
       " 36: 'a84cb096-f30d-4f70-bdd4-95cde3914c30',\n",
       " 37: 'd5f1bbb2-96d4-4c70-9274-98a1066ff5fe',\n",
       " 38: '1642e3c7-be13-4752-9f7f-99aa0c6e091f',\n",
       " 39: 'c04d7e85-0141-4092-b25b-369bbab1580d',\n",
       " 40: '45d51f9a-c40c-4780-ab29-284ce920f5bf',\n",
       " 41: 'b339c691-8211-4e55-ba67-0ce3c38edbc2',\n",
       " 42: 'd42df5b7-393a-4e07-9818-1d3969e6ad08',\n",
       " 43: '6d07821b-eebc-4dea-a8d2-30fddeaa48ed',\n",
       " 44: 'ff68f812-c884-42a5-8f0c-ea95b565c6ef',\n",
       " 45: 'd22ab7d2-104c-43c8-8a2c-4572b27e7fb8',\n",
       " 46: '109cf214-b6fa-440a-bf0d-8d400cc2f0da',\n",
       " 47: 'ecde7bae-3d17-4e3b-979b-3806ffffc1b8',\n",
       " 48: '5cbbbf44-3583-4264-8a3b-bcf9dd8c0341',\n",
       " 49: '5d51469b-77bf-484c-b1af-035809fbe090',\n",
       " 50: 'cfc4e1ac-8d7c-4f36-b5d0-1a31fc06159a',\n",
       " 51: '35207c2e-c452-4970-8c9c-fc9d072e6ed4',\n",
       " 52: 'fa46720c-014e-4c61-9aba-43191e749424',\n",
       " 53: '78522c45-b4b0-4a52-9a13-1f53e6212cde',\n",
       " 54: '185d95e7-446b-4df9-a7ee-12384c28fc73',\n",
       " 55: '7739e406-305f-47f9-b832-3b5845a488b3',\n",
       " 56: '9094f97b-f8d4-4409-a226-ae8339234757',\n",
       " 57: '7580512e-8eed-4390-95d9-87c67872da99',\n",
       " 58: '47314222-017c-47f5-b663-14d530084b27',\n",
       " 59: '2d49b9e4-007b-481f-a020-ec272e15a233',\n",
       " 60: 'f6569c17-9d55-4622-90fe-cc577a3ef261',\n",
       " 61: '4ba88cb1-35ba-406d-9589-4e5adfd22af5',\n",
       " 62: 'a605c182-b8cf-4350-96bc-12eeb807bd0e',\n",
       " 63: '10e9a53a-709c-488b-899a-07c71f707e16',\n",
       " 64: 'a97059d2-9f5c-4200-8a1f-e483edc2de1a',\n",
       " 65: '03616579-405f-45ae-9ff2-4efc93ce9656',\n",
       " 66: 'e0f42e43-ad4c-4654-81df-2142710c9da6',\n",
       " 67: '3f1fc98a-8ef1-4e48-b6a9-e4418bb550e5',\n",
       " 68: 'f535699c-e6c1-429f-bf45-2bed1171fdad',\n",
       " 69: '8414c6e9-d9ab-4ece-8516-556420c7d948',\n",
       " 70: '60011635-9413-4d88-91e5-3e33cb6159f5',\n",
       " 71: '1678a1b6-cdbb-4d61-b324-0ef38e5204d9',\n",
       " 72: '1b466c31-6363-4d27-a140-d8d23424c545',\n",
       " 73: '85b46215-6250-4e31-8499-c1e46fb1c6b2',\n",
       " 74: 'f81b80b3-f3ab-4e50-bffa-cd636af4dc0c',\n",
       " 75: '1f7fbab9-dbd9-4f53-9a8d-bd4fdd0da57e',\n",
       " 76: 'ba725343-8151-4908-b620-4cd0fcc5a73c',\n",
       " 77: '7908da26-8d08-47e4-9389-31abf4de828f',\n",
       " 78: '8c6365b6-5ab3-410b-9d74-560ac694ee00',\n",
       " 79: '966861ad-0a9c-45a8-84ee-6c9990579e15',\n",
       " 80: 'f83f52cb-1dbb-432f-839c-9de5045a566a',\n",
       " 81: '4d75440e-9df6-4405-98e7-21b7c523fcdd',\n",
       " 82: '3fa490da-4f58-4e1b-bfd1-63328c828ef3',\n",
       " 83: '83b52b02-3cb7-458e-8a7d-96892d6a97a7',\n",
       " 84: 'f766732c-4969-4424-ab6e-89ca37568d5a',\n",
       " 85: '090ef761-60b8-4c63-b70a-b5817daae561',\n",
       " 86: '325a95ae-8398-4d25-8aea-cceba436e476',\n",
       " 87: '3e05c41d-4cd7-4663-9868-daef125cf901',\n",
       " 88: '9b97a902-3ef9-4987-8b05-5b8813aea75c',\n",
       " 89: '6d63876d-a340-49e4-a21b-fb16d041f0c3',\n",
       " 90: '9ce72c54-c8e7-4602-a477-602e44534e26',\n",
       " 91: '8126f932-f55d-4111-ba12-33561bf2d4a9',\n",
       " 92: 'de9999d7-61f8-4065-af8c-8e2b6f3e48a2',\n",
       " 93: 'd51136ad-c3f7-46a8-be82-afe5b28ed248',\n",
       " 94: '8772e547-f984-43cb-8fcc-e59b91609aa3',\n",
       " 95: '3c1bea89-5d2c-40e5-9f6b-e7669240327a',\n",
       " 96: '50c9130e-87c8-4244-9fcb-700bdffd2c3e',\n",
       " 97: '4c80d336-df65-4931-8f4b-977e405176a9',\n",
       " 98: '6607303d-742c-42e9-87c9-233cdf5429e1',\n",
       " 99: '0803aab4-e085-42d5-88b5-0cb82c2444fb',\n",
       " 100: '1188efb0-6a1f-4b76-a540-931d2181b66c',\n",
       " 101: '5b918274-cf68-4b62-bd49-0e99abb9adde',\n",
       " 102: '5bc68761-77f8-48f3-bcec-5e94bb080031',\n",
       " 103: '163861b2-1589-4367-9641-2b1b8be584a6',\n",
       " 104: 'dd148ca0-750c-4dae-871e-463035018cea',\n",
       " 105: '6cc97f28-b870-4163-8bc9-253de4288755',\n",
       " 106: '1fa6da10-56c5-476c-86b4-4aa92840ce9a',\n",
       " 107: '56d0d0bc-d122-4472-adc1-b7aaf975e444',\n",
       " 108: '8efdf086-a73e-4467-8bfa-981aeed1ad36',\n",
       " 109: 'f1a49168-2054-4711-8eb8-1309a24e4927',\n",
       " 110: 'd50ba863-5e63-42c4-88b1-322404f6ac89',\n",
       " 111: '9a8c4d8b-137c-4a9a-bdb6-d7d1c80ad5ba',\n",
       " 112: '9b249484-91c1-4148-a2e1-ebac9f78ce2d',\n",
       " 113: '5257267f-006d-4dd5-9aa9-22e46c51b747',\n",
       " 114: 'd9d9ebce-f90f-4056-9506-248fcb3ba525',\n",
       " 115: '64b1ce5f-8669-4d2e-924c-a7210f4ec3f7',\n",
       " 116: '72b8767b-1bf4-42b0-8c61-0681de029021',\n",
       " 117: '0fa6489e-e048-4ae6-99c2-b4699c090e01',\n",
       " 118: 'bb9ea492-30cd-49fc-9fd3-81b9e3c563e0',\n",
       " 119: '18412bc0-4976-4ec8-801b-1e91004ed9e0',\n",
       " 120: '14f15d66-cd41-44ed-ac35-7ec2aa07171c',\n",
       " 121: 'dd286aa9-314d-40a3-a538-14e8d6973177',\n",
       " 122: '038bde6f-fbc3-45f9-9dfb-71fb720adf0e',\n",
       " 123: '4499fbc6-69cd-47cb-b97c-f1083ab25925',\n",
       " 124: '4d7e71a8-952d-4d71-8767-b145ecf259b8',\n",
       " 125: 'd150a6ba-846f-4935-bb91-46b1ba7d2296',\n",
       " 126: '1d19fd9c-6796-4a1f-8c47-cdd492f039d6',\n",
       " 127: '49c1af25-c77e-4b4c-8c75-6f760415b44a',\n",
       " 128: 'aa55ef32-cde5-4d46-a8dd-71fc4ab49490',\n",
       " 129: '2a80a44e-848f-4c71-8864-cc2f0bad0377',\n",
       " 130: 'c2efc84c-961a-4871-8a0d-df935e40a103',\n",
       " 131: 'ea5d7150-3713-43a8-a4f2-57035e521cf5',\n",
       " 132: '9794ae3d-78e6-444a-8608-927515deabde',\n",
       " 133: '23e3fb08-b2ea-4942-886e-d20739fd2763',\n",
       " 134: 'ec6c65e3-b4bb-4bc8-b296-90a23eddb9e7',\n",
       " 135: '43ce40d1-3d03-405e-8b60-d190da264e2f',\n",
       " 136: 'b2995b76-32f7-4c6f-bf0b-12ad8c302b11',\n",
       " 137: '2e5ba0cf-8de4-4c60-9cc6-5111fade32ab',\n",
       " 138: 'cf13b885-38c4-4295-aeff-a24b4e42413c',\n",
       " 139: 'bd3f1d21-ddcf-4681-8b80-d666d50d676e',\n",
       " 140: 'ac3ba6c1-545b-4989-9fd5-190af716b82a',\n",
       " 141: '25057fa7-da10-4807-b42e-e608368007ff',\n",
       " 142: '171a79ae-6d6f-45d7-86b1-ee20875ec1de',\n",
       " 143: '0f241f34-c84d-4bfa-9921-95a3ec1e8136',\n",
       " 144: '7987793f-bcca-4602-b6ad-f31aae54f09d',\n",
       " 145: '9ddd9eb5-2c1a-4f38-b0ed-13cc718bfe03',\n",
       " 146: 'eebabe29-b408-4961-9c05-70d2335e94cd',\n",
       " 147: '621cd923-b94d-4675-87fc-31933a3b3d49',\n",
       " 148: '8baf6dee-8459-48a9-8b89-8062cd2b3c82',\n",
       " 149: '96c19980-0503-4444-af31-9b04f74f0733',\n",
       " 150: 'ed88ca84-7d8d-4fc5-a1da-6f043b76efe3',\n",
       " 151: 'c198609d-1e4e-4cf7-8832-ec954d4e74ef',\n",
       " 152: '330259aa-2480-432f-b008-5371c8eb1741',\n",
       " 153: '1eb18fe7-7ffa-401b-8f8c-74bba7720e06',\n",
       " 154: '99080076-e5cd-4ef5-957b-86343f1a731b',\n",
       " 155: '7a644c24-f959-4445-8d66-a1efeecf0f35',\n",
       " 156: '7ef8179b-4c75-48b8-a83d-00bd8135a701',\n",
       " 157: '9996392f-b82c-4dfe-98a6-eb630f22776a',\n",
       " 158: 'd036daf1-9455-4f8b-a9c4-9f8958b5ec1f',\n",
       " 159: '6608ff35-d1c0-4041-b0fb-c99ff9ccd316',\n",
       " 160: 'bd504a18-e507-4874-a64b-722c6bf95739',\n",
       " 161: '88e04aaa-135e-42ec-8a1a-62c0381ae25c',\n",
       " 162: '5b56833b-a446-41c6-804b-f17d8dc54111',\n",
       " 163: 'f80e1cf3-1554-49e4-9939-48244d89001a',\n",
       " 164: '2eb751fe-cad0-4dce-8cd8-68e73ef357b6',\n",
       " 165: 'a1e795d4-f09b-405f-a502-9da6654e036c',\n",
       " 166: '0fd89e15-9101-4b04-8deb-89b0b6d4aafd',\n",
       " 167: '051b0b21-f1ee-4c15-a291-5d13f7d821bd',\n",
       " 168: '24d0d3bd-b5c4-45c0-887b-9723ad93e05d',\n",
       " 169: '16be8038-96b0-42b9-986f-29ea16221441',\n",
       " 170: '99acbcfa-3e0b-4626-8dda-f6c81dd6c70c',\n",
       " 171: '5af0b4c9-1985-40ff-9fad-4aa1820e9998',\n",
       " 172: '5bcb4b1f-977a-489b-829e-d3b4d990729f',\n",
       " 173: '27908da6-2934-4f4b-ad71-71f85887fdca',\n",
       " 174: '88aa3cca-7919-4cc6-be3f-c3821c62ac73',\n",
       " 175: '2f7bc7dc-a1b0-4c9a-a6e2-a35d091a35f5',\n",
       " 176: '8b36b6af-8bce-4d47-916c-9f8a0e1a44e9',\n",
       " 177: '288129dd-3505-438e-b087-3f357447dd69',\n",
       " 178: '9f240657-c934-4808-bd4d-284ff517fc73',\n",
       " 179: '16f851b2-57c7-465c-a92e-869a826e6b9d',\n",
       " 180: '287ad665-d194-4a3a-b21b-d217af21513a',\n",
       " 181: 'd71cae66-255c-45fd-b9d3-7f54edf68b17',\n",
       " 182: '43399abf-9c06-4f72-b6f4-810faff51da8',\n",
       " 183: '6e4588ae-62f2-480e-a67f-7e692ca04113',\n",
       " 184: 'a3804ff4-932d-4e96-8267-adea039c8f69',\n",
       " 185: 'df1c8ba8-36ed-4098-a833-bf4a5f19fa4f',\n",
       " 186: '2176b397-37ec-4e36-9887-8492ec04ac13',\n",
       " 187: '29429f04-fc3e-486f-a42a-03665948f10a'}"
      ]
     },
     "execution_count": 44,
     "metadata": {},
     "output_type": "execute_result"
    }
   ],
   "source": [
    "vector_store.index_to_docstore_id"
   ]
  },
  {
   "cell_type": "code",
   "execution_count": 46,
   "id": "ea73208a",
   "metadata": {},
   "outputs": [
    {
     "data": {
      "text/plain": [
       "\"train it and hardly you know just to put my input data it hardly took very less time right so this is one amazing application this is how you can probably do the fine tuning one task I really want to give it to you I okay let's let's reload this I think you'll be able to see my fine tuned model also uh let's see the model uh okay I've already deleted it I think yeah I've deleted it so that is the reason you're not able to see it over here if I had not deleted that you could also see the models over here right so model testing see model is also not here right otherwise you could also see it uh put it over here and you can ask any question you want right this is quite amazing so at the end of the day if you don't want to delete it just don't delete it and keep it like this so I hope you like this particular video I hope you have understood how you can fine tune our amazing llm models uh in with the help of gradient AI Cloud uh which is quite amazing you should definitely use it try to\""
      ]
     },
     "execution_count": 46,
     "metadata": {},
     "output_type": "execute_result"
    }
   ],
   "source": [
    "vector_store.get_by_ids(['2176b397-37ec-4e36-9887-8492ec04ac13'])[0].page_content"
   ]
  },
  {
   "cell_type": "code",
   "execution_count": 47,
   "id": "0a190f05",
   "metadata": {},
   "outputs": [],
   "source": [
    "retriever=vector_store.as_retriever(search_type='similarity',search_kwargs={\"k\":4})"
   ]
  },
  {
   "cell_type": "code",
   "execution_count": 48,
   "id": "924073b6",
   "metadata": {},
   "outputs": [
    {
     "data": {
      "text/plain": [
       "[Document(id='0f241f34-c84d-4bfa-9921-95a3ec1e8136', metadata={}, page_content=\"logged in and then we will go ahead and see to it let's see I will go ahead and log in in this way so once we login over here so here you can see that you'll be able to see a dashboard okay once you probably log in now after you log in all you have to do is that go and towards this AI project section okay if you have not logged in you have to sign up in the specific platform now what I will do is that I will go ahead and create a AI project so let me go ahead and create an AI project and I will name this AI project to something else let's say I will write uh document Q&A something I can write up to you okay so whatever application let's say I will say rag system right so I I'm actually trying to create this I will enable this also make sure that you enable this then only your application will probably get started now in this entire pipeline initially you'll be able to see two important section one is query and one is output okay so query basically means an event that starts the flow\"),\n",
       " Document(id='d036daf1-9455-4f8b-a9c4-9f8958b5ec1f', metadata={}, page_content=\"you'll be able to see that now it is going to do the Google search and it is going to give me the specific answer okay so and for the first time once you set it for the first request it will take take some time but from the upcoming request it will become very smooth so here you can see machine learning is a branch of artificial intelligence and all so let's say I will go ahead and write who is krishak so here if I go ahead and click on send here also you can probably see that if it is using the right API Google search API it should be able to give me the answer uh about myself okay so krishn is a YouTuber and data scientist known for his educational content on machine learning so all the answers are perfectly coming up right now this is what is the most amazing thing about this but again that question will come Krish what is the use of all this things you know you are saying that we can do all these things in a specific platform but how to probably do this in the coding because I\"),\n",
       " Document(id='29429f04-fc3e-486f-a42a-03665948f10a', metadata={}, page_content=\"this particular video I hope you have understood how you can fine tune our amazing llm models uh in with the help of gradient AI Cloud uh which is quite amazing you should definitely use it try to use it and try to see whether you're able to do this or not but uh just by seeing the code and all I think it is quite easy quite amazing again yes this was it for my side I hope you like this particular video I'll see you all in the next video have a great day thank you on all take care bye-bye\"),\n",
       " Document(id='051b0b21-f1ee-4c15-a291-5d13f7d821bd', metadata={}, page_content=\"part so over here you can create your own private llms your own models fully unlocked model right and you can build with any languages it provides you three SDK I think JavaScript Python and Java so that is also provided we will be specifically using python hdk we will be using Google collab and we will be finetuning our own model so it is the only AI platform that allows you to combine industry expert AI with your private data and here is all the other information that you can see that it also provides accelate AI transformation deploy AI to solve Mission critical problem 10 into faster with gradients AI Cloud platform we handle the infrastructure for you so it is an amazing platform alog together where you can not only uh build your model even you can inference it you can even find un it so in order to go ahead with first of all you need to go ahead and sign up so for sign up you can probably put your entire details I have already sign out uh signed up so I'm going to probably do\")]"
      ]
     },
     "execution_count": 48,
     "metadata": {},
     "output_type": "execute_result"
    }
   ],
   "source": [
    "retriever.invoke(\"what is ai\")"
   ]
  },
  {
   "cell_type": "code",
   "execution_count": 50,
   "id": "0dcc0198",
   "metadata": {},
   "outputs": [],
   "source": [
    "def form_retrieved_docs(retrieved_docs):\n",
    "    return \"\\n\\n\".join(doc.page_content for doc in retrieved_docs)"
   ]
  },
  {
   "cell_type": "code",
   "execution_count": 51,
   "id": "d8d8d65f",
   "metadata": {},
   "outputs": [],
   "source": [
    "parallel_chain=RunnableParallel({\n",
    "    \"context\":retriever|RunnableLambda(form_retrieved_docs),\n",
    "    \"question\":RunnablePassthrough()\n",
    "})"
   ]
  },
  {
   "cell_type": "code",
   "execution_count": 52,
   "id": "06be958c",
   "metadata": {},
   "outputs": [],
   "source": [
    "from langchain_openai import ChatOpenAI\n",
    "from langchain_core.output_parsers import StrOutputParser\n",
    "from langchain_core.prompts import PromptTemplate\n",
    "llm=ChatOpenAI()\n",
    "parser=StrOutputParser()\n",
    "template=PromptTemplate(\n",
    "    template=\"\"\"Act as a helpful assistant. You have to give answer of question from the following context.\n",
    "    {context}\n",
    "    Question: {question}\n",
    "    If the context is insufficient to answer. Just say you don't know.\n",
    "    \"\"\",\n",
    "    input_variables=[\"context\",\"question\"]\n",
    ")"
   ]
  },
  {
   "cell_type": "code",
   "execution_count": 53,
   "id": "e85a5ff2",
   "metadata": {},
   "outputs": [],
   "source": [
    "chain=parallel_chain|template|llm|parser"
   ]
  },
  {
   "cell_type": "code",
   "execution_count": 59,
   "id": "3af5c44f",
   "metadata": {},
   "outputs": [
    {
     "data": {
      "text/plain": [
       "'The main points of this video are discussing the concept of 1 bit LLM models, the advantages of 1 bit LLM models compared to 32 bit or 16 bit LLM models, the process of quantization, and the importance of understanding research papers and the steps involved in fine-tuning models using gradient AI Cloud.'"
      ]
     },
     "execution_count": 59,
     "metadata": {},
     "output_type": "execute_result"
    }
   ],
   "source": [
    "chain.invoke(\"What are the main points of this video\")"
   ]
  }
 ],
 "metadata": {
  "kernelspec": {
   "display_name": "venv",
   "language": "python",
   "name": "python3"
  },
  "language_info": {
   "codemirror_mode": {
    "name": "ipython",
    "version": 3
   },
   "file_extension": ".py",
   "mimetype": "text/x-python",
   "name": "python",
   "nbconvert_exporter": "python",
   "pygments_lexer": "ipython3",
   "version": "3.13.5"
  }
 },
 "nbformat": 4,
 "nbformat_minor": 5
}
